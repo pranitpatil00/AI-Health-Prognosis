{
 "cells": [
  {
   "cell_type": "markdown",
   "metadata": {
    "id": "LnPbntVRnfvV"
   },
   "source": [
    "Importing the Dependencies"
   ]
  },
  {
   "cell_type": "code",
   "execution_count": 1,
   "metadata": {
    "executionInfo": {
     "elapsed": 1362,
     "status": "ok",
     "timestamp": 1653200161038,
     "user": {
      "displayName": "siddhardh selvam",
      "userId": "13966379820454708749"
     },
     "user_tz": -330
    },
    "id": "-71UtHzNVWjB"
   },
   "outputs": [
    {
     "name": "stdout",
     "output_type": "stream",
     "text": [
      "Python executable: c:\\Users\\prani\\AppData\\Local\\Programs\\Python\\Python313\\python.exe\n",
      "Python version: 3.13.2 (tags/v3.13.2:4f8bb39, Feb  4 2025, 15:23:48) [MSC v.1942 64 bit (AMD64)]\n",
      "Requirement already satisfied: numpy in c:\\users\\prani\\appdata\\local\\programs\\python\\python313\\lib\\site-packages (2.2.6)\n",
      "Requirement already satisfied: pandas in c:\\users\\prani\\appdata\\local\\programs\\python\\python313\\lib\\site-packages (2.3.0)\n",
      "Requirement already satisfied: scikit-learn in c:\\users\\prani\\appdata\\local\\programs\\python\\python313\\lib\\site-packages (1.7.1)\n",
      "Requirement already satisfied: python-dateutil>=2.8.2 in c:\\users\\prani\\appdata\\local\\programs\\python\\python313\\lib\\site-packages (from pandas) (2.9.0.post0)\n",
      "Requirement already satisfied: pytz>=2020.1 in c:\\users\\prani\\appdata\\local\\programs\\python\\python313\\lib\\site-packages (from pandas) (2025.2)\n",
      "Requirement already satisfied: tzdata>=2022.7 in c:\\users\\prani\\appdata\\local\\programs\\python\\python313\\lib\\site-packages (from pandas) (2025.2)\n",
      "Requirement already satisfied: scipy>=1.8.0 in c:\\users\\prani\\appdata\\local\\programs\\python\\python313\\lib\\site-packages (from scikit-learn) (1.16.1)\n",
      "Requirement already satisfied: joblib>=1.2.0 in c:\\users\\prani\\appdata\\local\\programs\\python\\python313\\lib\\site-packages (from scikit-learn) (1.5.2)\n",
      "Requirement already satisfied: threadpoolctl>=3.1.0 in c:\\users\\prani\\appdata\\local\\programs\\python\\python313\\lib\\site-packages (from scikit-learn) (3.6.0)\n",
      "Requirement already satisfied: six>=1.5 in c:\\users\\prani\\appdata\\local\\programs\\python\\python313\\lib\\site-packages (from python-dateutil>=2.8.2->pandas) (1.17.0)\n"
     ]
    }
   ],
   "source": [
    "# Check which Python you're using\n",
    "import sys\n",
    "print(\"Python executable:\", sys.executable)\n",
    "print(\"Python version:\", sys.version)\n",
    "\n",
    "# Install to the specific Python environment\n",
    "!{sys.executable} -m pip install numpy pandas scikit-learn\n",
    "\n",
    "# Then try imports\n",
    "import numpy as np\n",
    "import pandas as pd\n"
   ]
  },
  {
   "cell_type": "markdown",
   "metadata": {
    "id": "bmfOfG8joBBy"
   },
   "source": [
    "Data Collection and Analysis\n",
    "\n",
    "PIMA Diabetes Dataset"
   ]
  },
  {
   "cell_type": "code",
   "execution_count": 2,
   "metadata": {
    "executionInfo": {
     "elapsed": 37,
     "status": "ok",
     "timestamp": 1653200161039,
     "user": {
      "displayName": "siddhardh selvam",
      "userId": "13966379820454708749"
     },
     "user_tz": -330
    },
    "id": "Xpw6Mj_pn_TL"
   },
   "outputs": [],
   "source": [
    "diabetes_dataset = pd.read_csv(r'C:\\Users\\prani\\OneDrive\\Desktop\\Disease_prediction\\multiple-disease-prediction-streamlit-app\\dataset\\diabetes.csv')\n"
   ]
  },
  {
   "cell_type": "code",
   "execution_count": 3,
   "metadata": {
    "colab": {
     "base_uri": "https://localhost:8080/",
     "height": 206
    },
    "executionInfo": {
     "elapsed": 36,
     "status": "ok",
     "timestamp": 1653200161040,
     "user": {
      "displayName": "siddhardh selvam",
      "userId": "13966379820454708749"
     },
     "user_tz": -330
    },
    "id": "-tjO09ncovoh",
    "outputId": "f4faaf8a-3fc8-413a-bbd4-bb272589a73c"
   },
   "outputs": [
    {
     "data": {
      "text/html": [
       "<div>\n",
       "<style scoped>\n",
       "    .dataframe tbody tr th:only-of-type {\n",
       "        vertical-align: middle;\n",
       "    }\n",
       "\n",
       "    .dataframe tbody tr th {\n",
       "        vertical-align: top;\n",
       "    }\n",
       "\n",
       "    .dataframe thead th {\n",
       "        text-align: right;\n",
       "    }\n",
       "</style>\n",
       "<table border=\"1\" class=\"dataframe\">\n",
       "  <thead>\n",
       "    <tr style=\"text-align: right;\">\n",
       "      <th></th>\n",
       "      <th>Pregnancies</th>\n",
       "      <th>Glucose</th>\n",
       "      <th>BloodPressure</th>\n",
       "      <th>SkinThickness</th>\n",
       "      <th>Insulin</th>\n",
       "      <th>BMI</th>\n",
       "      <th>DiabetesPedigreeFunction</th>\n",
       "      <th>Age</th>\n",
       "      <th>Outcome</th>\n",
       "    </tr>\n",
       "  </thead>\n",
       "  <tbody>\n",
       "    <tr>\n",
       "      <th>0</th>\n",
       "      <td>6</td>\n",
       "      <td>148</td>\n",
       "      <td>72</td>\n",
       "      <td>35</td>\n",
       "      <td>0</td>\n",
       "      <td>33.6</td>\n",
       "      <td>0.627</td>\n",
       "      <td>50</td>\n",
       "      <td>1</td>\n",
       "    </tr>\n",
       "    <tr>\n",
       "      <th>1</th>\n",
       "      <td>1</td>\n",
       "      <td>85</td>\n",
       "      <td>66</td>\n",
       "      <td>29</td>\n",
       "      <td>0</td>\n",
       "      <td>26.6</td>\n",
       "      <td>0.351</td>\n",
       "      <td>31</td>\n",
       "      <td>0</td>\n",
       "    </tr>\n",
       "    <tr>\n",
       "      <th>2</th>\n",
       "      <td>8</td>\n",
       "      <td>183</td>\n",
       "      <td>64</td>\n",
       "      <td>0</td>\n",
       "      <td>0</td>\n",
       "      <td>23.3</td>\n",
       "      <td>0.672</td>\n",
       "      <td>32</td>\n",
       "      <td>1</td>\n",
       "    </tr>\n",
       "    <tr>\n",
       "      <th>3</th>\n",
       "      <td>1</td>\n",
       "      <td>89</td>\n",
       "      <td>66</td>\n",
       "      <td>23</td>\n",
       "      <td>94</td>\n",
       "      <td>28.1</td>\n",
       "      <td>0.167</td>\n",
       "      <td>21</td>\n",
       "      <td>0</td>\n",
       "    </tr>\n",
       "    <tr>\n",
       "      <th>4</th>\n",
       "      <td>0</td>\n",
       "      <td>137</td>\n",
       "      <td>40</td>\n",
       "      <td>35</td>\n",
       "      <td>168</td>\n",
       "      <td>43.1</td>\n",
       "      <td>2.288</td>\n",
       "      <td>33</td>\n",
       "      <td>1</td>\n",
       "    </tr>\n",
       "  </tbody>\n",
       "</table>\n",
       "</div>"
      ],
      "text/plain": [
       "   Pregnancies  Glucose  BloodPressure  SkinThickness  Insulin   BMI  \\\n",
       "0            6      148             72             35        0  33.6   \n",
       "1            1       85             66             29        0  26.6   \n",
       "2            8      183             64              0        0  23.3   \n",
       "3            1       89             66             23       94  28.1   \n",
       "4            0      137             40             35      168  43.1   \n",
       "\n",
       "   DiabetesPedigreeFunction  Age  Outcome  \n",
       "0                     0.627   50        1  \n",
       "1                     0.351   31        0  \n",
       "2                     0.672   32        1  \n",
       "3                     0.167   21        0  \n",
       "4                     2.288   33        1  "
      ]
     },
     "execution_count": 3,
     "metadata": {},
     "output_type": "execute_result"
    }
   ],
   "source": [
    "# printing the first 5 rows of the dataset\n",
    "diabetes_dataset.head()"
   ]
  },
  {
   "cell_type": "code",
   "execution_count": 4,
   "metadata": {
    "colab": {
     "base_uri": "https://localhost:8080/"
    },
    "executionInfo": {
     "elapsed": 28,
     "status": "ok",
     "timestamp": 1653200161040,
     "user": {
      "displayName": "siddhardh selvam",
      "userId": "13966379820454708749"
     },
     "user_tz": -330
    },
    "id": "lynParo6pEMB",
    "outputId": "b8e97658-d5ae-4407-e3c0-f4b7b0d0321e"
   },
   "outputs": [
    {
     "data": {
      "text/plain": [
       "(768, 9)"
      ]
     },
     "execution_count": 4,
     "metadata": {},
     "output_type": "execute_result"
    }
   ],
   "source": [
    "# number of rows and Columns in this dataset\n",
    "diabetes_dataset.shape"
   ]
  },
  {
   "cell_type": "code",
   "execution_count": 5,
   "metadata": {
    "colab": {
     "base_uri": "https://localhost:8080/",
     "height": 300
    },
    "executionInfo": {
     "elapsed": 26,
     "status": "ok",
     "timestamp": 1653200161041,
     "user": {
      "displayName": "siddhardh selvam",
      "userId": "13966379820454708749"
     },
     "user_tz": -330
    },
    "id": "3NDJOlrEpmoL",
    "outputId": "1a166b9c-0ec1-42dc-e0f4-32924aa1ab65"
   },
   "outputs": [
    {
     "data": {
      "text/html": [
       "<div>\n",
       "<style scoped>\n",
       "    .dataframe tbody tr th:only-of-type {\n",
       "        vertical-align: middle;\n",
       "    }\n",
       "\n",
       "    .dataframe tbody tr th {\n",
       "        vertical-align: top;\n",
       "    }\n",
       "\n",
       "    .dataframe thead th {\n",
       "        text-align: right;\n",
       "    }\n",
       "</style>\n",
       "<table border=\"1\" class=\"dataframe\">\n",
       "  <thead>\n",
       "    <tr style=\"text-align: right;\">\n",
       "      <th></th>\n",
       "      <th>Pregnancies</th>\n",
       "      <th>Glucose</th>\n",
       "      <th>BloodPressure</th>\n",
       "      <th>SkinThickness</th>\n",
       "      <th>Insulin</th>\n",
       "      <th>BMI</th>\n",
       "      <th>DiabetesPedigreeFunction</th>\n",
       "      <th>Age</th>\n",
       "      <th>Outcome</th>\n",
       "    </tr>\n",
       "  </thead>\n",
       "  <tbody>\n",
       "    <tr>\n",
       "      <th>count</th>\n",
       "      <td>768.000000</td>\n",
       "      <td>768.000000</td>\n",
       "      <td>768.000000</td>\n",
       "      <td>768.000000</td>\n",
       "      <td>768.000000</td>\n",
       "      <td>768.000000</td>\n",
       "      <td>768.000000</td>\n",
       "      <td>768.000000</td>\n",
       "      <td>768.000000</td>\n",
       "    </tr>\n",
       "    <tr>\n",
       "      <th>mean</th>\n",
       "      <td>3.845052</td>\n",
       "      <td>120.894531</td>\n",
       "      <td>69.105469</td>\n",
       "      <td>20.536458</td>\n",
       "      <td>79.799479</td>\n",
       "      <td>31.992578</td>\n",
       "      <td>0.471876</td>\n",
       "      <td>33.240885</td>\n",
       "      <td>0.348958</td>\n",
       "    </tr>\n",
       "    <tr>\n",
       "      <th>std</th>\n",
       "      <td>3.369578</td>\n",
       "      <td>31.972618</td>\n",
       "      <td>19.355807</td>\n",
       "      <td>15.952218</td>\n",
       "      <td>115.244002</td>\n",
       "      <td>7.884160</td>\n",
       "      <td>0.331329</td>\n",
       "      <td>11.760232</td>\n",
       "      <td>0.476951</td>\n",
       "    </tr>\n",
       "    <tr>\n",
       "      <th>min</th>\n",
       "      <td>0.000000</td>\n",
       "      <td>0.000000</td>\n",
       "      <td>0.000000</td>\n",
       "      <td>0.000000</td>\n",
       "      <td>0.000000</td>\n",
       "      <td>0.000000</td>\n",
       "      <td>0.078000</td>\n",
       "      <td>21.000000</td>\n",
       "      <td>0.000000</td>\n",
       "    </tr>\n",
       "    <tr>\n",
       "      <th>25%</th>\n",
       "      <td>1.000000</td>\n",
       "      <td>99.000000</td>\n",
       "      <td>62.000000</td>\n",
       "      <td>0.000000</td>\n",
       "      <td>0.000000</td>\n",
       "      <td>27.300000</td>\n",
       "      <td>0.243750</td>\n",
       "      <td>24.000000</td>\n",
       "      <td>0.000000</td>\n",
       "    </tr>\n",
       "    <tr>\n",
       "      <th>50%</th>\n",
       "      <td>3.000000</td>\n",
       "      <td>117.000000</td>\n",
       "      <td>72.000000</td>\n",
       "      <td>23.000000</td>\n",
       "      <td>30.500000</td>\n",
       "      <td>32.000000</td>\n",
       "      <td>0.372500</td>\n",
       "      <td>29.000000</td>\n",
       "      <td>0.000000</td>\n",
       "    </tr>\n",
       "    <tr>\n",
       "      <th>75%</th>\n",
       "      <td>6.000000</td>\n",
       "      <td>140.250000</td>\n",
       "      <td>80.000000</td>\n",
       "      <td>32.000000</td>\n",
       "      <td>127.250000</td>\n",
       "      <td>36.600000</td>\n",
       "      <td>0.626250</td>\n",
       "      <td>41.000000</td>\n",
       "      <td>1.000000</td>\n",
       "    </tr>\n",
       "    <tr>\n",
       "      <th>max</th>\n",
       "      <td>17.000000</td>\n",
       "      <td>199.000000</td>\n",
       "      <td>122.000000</td>\n",
       "      <td>99.000000</td>\n",
       "      <td>846.000000</td>\n",
       "      <td>67.100000</td>\n",
       "      <td>2.420000</td>\n",
       "      <td>81.000000</td>\n",
       "      <td>1.000000</td>\n",
       "    </tr>\n",
       "  </tbody>\n",
       "</table>\n",
       "</div>"
      ],
      "text/plain": [
       "       Pregnancies     Glucose  BloodPressure  SkinThickness     Insulin  \\\n",
       "count   768.000000  768.000000     768.000000     768.000000  768.000000   \n",
       "mean      3.845052  120.894531      69.105469      20.536458   79.799479   \n",
       "std       3.369578   31.972618      19.355807      15.952218  115.244002   \n",
       "min       0.000000    0.000000       0.000000       0.000000    0.000000   \n",
       "25%       1.000000   99.000000      62.000000       0.000000    0.000000   \n",
       "50%       3.000000  117.000000      72.000000      23.000000   30.500000   \n",
       "75%       6.000000  140.250000      80.000000      32.000000  127.250000   \n",
       "max      17.000000  199.000000     122.000000      99.000000  846.000000   \n",
       "\n",
       "              BMI  DiabetesPedigreeFunction         Age     Outcome  \n",
       "count  768.000000                768.000000  768.000000  768.000000  \n",
       "mean    31.992578                  0.471876   33.240885    0.348958  \n",
       "std      7.884160                  0.331329   11.760232    0.476951  \n",
       "min      0.000000                  0.078000   21.000000    0.000000  \n",
       "25%     27.300000                  0.243750   24.000000    0.000000  \n",
       "50%     32.000000                  0.372500   29.000000    0.000000  \n",
       "75%     36.600000                  0.626250   41.000000    1.000000  \n",
       "max     67.100000                  2.420000   81.000000    1.000000  "
      ]
     },
     "execution_count": 5,
     "metadata": {},
     "output_type": "execute_result"
    }
   ],
   "source": [
    "# getting the statistical measures of the data\n",
    "diabetes_dataset.describe()"
   ]
  },
  {
   "cell_type": "code",
   "execution_count": 6,
   "metadata": {
    "colab": {
     "base_uri": "https://localhost:8080/"
    },
    "executionInfo": {
     "elapsed": 27,
     "status": "ok",
     "timestamp": 1653200161043,
     "user": {
      "displayName": "siddhardh selvam",
      "userId": "13966379820454708749"
     },
     "user_tz": -330
    },
    "id": "LrpHzaGpp5dQ",
    "outputId": "5da75a35-5065-4c08-abb1-13bc921dec5a"
   },
   "outputs": [
    {
     "data": {
      "text/plain": [
       "Outcome\n",
       "0    500\n",
       "1    268\n",
       "Name: count, dtype: int64"
      ]
     },
     "execution_count": 6,
     "metadata": {},
     "output_type": "execute_result"
    }
   ],
   "source": [
    "diabetes_dataset['Outcome'].value_counts()"
   ]
  },
  {
   "cell_type": "markdown",
   "metadata": {
    "id": "cB1qRaNcqeh5"
   },
   "source": [
    "0 --> Non-Diabetic\n",
    "\n",
    "1 --> Diabetic"
   ]
  },
  {
   "cell_type": "code",
   "execution_count": 7,
   "metadata": {
    "colab": {
     "base_uri": "https://localhost:8080/",
     "height": 143
    },
    "executionInfo": {
     "elapsed": 27,
     "status": "ok",
     "timestamp": 1653200161045,
     "user": {
      "displayName": "siddhardh selvam",
      "userId": "13966379820454708749"
     },
     "user_tz": -330
    },
    "id": "I6MWR0k_qSCK",
    "outputId": "1e817bc0-c41e-4181-a8e5-37885e765862"
   },
   "outputs": [
    {
     "data": {
      "text/html": [
       "<div>\n",
       "<style scoped>\n",
       "    .dataframe tbody tr th:only-of-type {\n",
       "        vertical-align: middle;\n",
       "    }\n",
       "\n",
       "    .dataframe tbody tr th {\n",
       "        vertical-align: top;\n",
       "    }\n",
       "\n",
       "    .dataframe thead th {\n",
       "        text-align: right;\n",
       "    }\n",
       "</style>\n",
       "<table border=\"1\" class=\"dataframe\">\n",
       "  <thead>\n",
       "    <tr style=\"text-align: right;\">\n",
       "      <th></th>\n",
       "      <th>Pregnancies</th>\n",
       "      <th>Glucose</th>\n",
       "      <th>BloodPressure</th>\n",
       "      <th>SkinThickness</th>\n",
       "      <th>Insulin</th>\n",
       "      <th>BMI</th>\n",
       "      <th>DiabetesPedigreeFunction</th>\n",
       "      <th>Age</th>\n",
       "    </tr>\n",
       "    <tr>\n",
       "      <th>Outcome</th>\n",
       "      <th></th>\n",
       "      <th></th>\n",
       "      <th></th>\n",
       "      <th></th>\n",
       "      <th></th>\n",
       "      <th></th>\n",
       "      <th></th>\n",
       "      <th></th>\n",
       "    </tr>\n",
       "  </thead>\n",
       "  <tbody>\n",
       "    <tr>\n",
       "      <th>0</th>\n",
       "      <td>3.298000</td>\n",
       "      <td>109.980000</td>\n",
       "      <td>68.184000</td>\n",
       "      <td>19.664000</td>\n",
       "      <td>68.792000</td>\n",
       "      <td>30.304200</td>\n",
       "      <td>0.429734</td>\n",
       "      <td>31.190000</td>\n",
       "    </tr>\n",
       "    <tr>\n",
       "      <th>1</th>\n",
       "      <td>4.865672</td>\n",
       "      <td>141.257463</td>\n",
       "      <td>70.824627</td>\n",
       "      <td>22.164179</td>\n",
       "      <td>100.335821</td>\n",
       "      <td>35.142537</td>\n",
       "      <td>0.550500</td>\n",
       "      <td>37.067164</td>\n",
       "    </tr>\n",
       "  </tbody>\n",
       "</table>\n",
       "</div>"
      ],
      "text/plain": [
       "         Pregnancies     Glucose  BloodPressure  SkinThickness     Insulin  \\\n",
       "Outcome                                                                      \n",
       "0           3.298000  109.980000      68.184000      19.664000   68.792000   \n",
       "1           4.865672  141.257463      70.824627      22.164179  100.335821   \n",
       "\n",
       "               BMI  DiabetesPedigreeFunction        Age  \n",
       "Outcome                                                  \n",
       "0        30.304200                  0.429734  31.190000  \n",
       "1        35.142537                  0.550500  37.067164  "
      ]
     },
     "execution_count": 7,
     "metadata": {},
     "output_type": "execute_result"
    }
   ],
   "source": [
    "diabetes_dataset.groupby('Outcome').mean()"
   ]
  },
  {
   "cell_type": "code",
   "execution_count": 8,
   "metadata": {
    "executionInfo": {
     "elapsed": 27,
     "status": "ok",
     "timestamp": 1653200161046,
     "user": {
      "displayName": "siddhardh selvam",
      "userId": "13966379820454708749"
     },
     "user_tz": -330
    },
    "id": "RoDW7l9mqqHZ"
   },
   "outputs": [],
   "source": [
    "# separating the data and labels\n",
    "X = diabetes_dataset.drop(columns = 'Outcome', axis=1)\n",
    "Y = diabetes_dataset['Outcome']"
   ]
  },
  {
   "cell_type": "code",
   "execution_count": 9,
   "metadata": {
    "colab": {
     "base_uri": "https://localhost:8080/"
    },
    "executionInfo": {
     "elapsed": 26,
     "status": "ok",
     "timestamp": 1653200161046,
     "user": {
      "displayName": "siddhardh selvam",
      "userId": "13966379820454708749"
     },
     "user_tz": -330
    },
    "id": "3eiRW9M9raMm",
    "outputId": "107aefe8-a40e-4a8c-efa4-e6a4929b8343"
   },
   "outputs": [
    {
     "name": "stdout",
     "output_type": "stream",
     "text": [
      "     Pregnancies  Glucose  BloodPressure  SkinThickness  Insulin   BMI  \\\n",
      "0              6      148             72             35        0  33.6   \n",
      "1              1       85             66             29        0  26.6   \n",
      "2              8      183             64              0        0  23.3   \n",
      "3              1       89             66             23       94  28.1   \n",
      "4              0      137             40             35      168  43.1   \n",
      "..           ...      ...            ...            ...      ...   ...   \n",
      "763           10      101             76             48      180  32.9   \n",
      "764            2      122             70             27        0  36.8   \n",
      "765            5      121             72             23      112  26.2   \n",
      "766            1      126             60              0        0  30.1   \n",
      "767            1       93             70             31        0  30.4   \n",
      "\n",
      "     DiabetesPedigreeFunction  Age  \n",
      "0                       0.627   50  \n",
      "1                       0.351   31  \n",
      "2                       0.672   32  \n",
      "3                       0.167   21  \n",
      "4                       2.288   33  \n",
      "..                        ...  ...  \n",
      "763                     0.171   63  \n",
      "764                     0.340   27  \n",
      "765                     0.245   30  \n",
      "766                     0.349   47  \n",
      "767                     0.315   23  \n",
      "\n",
      "[768 rows x 8 columns]\n"
     ]
    }
   ],
   "source": [
    "print(X)"
   ]
  },
  {
   "cell_type": "code",
   "execution_count": 10,
   "metadata": {
    "colab": {
     "base_uri": "https://localhost:8080/"
    },
    "executionInfo": {
     "elapsed": 25,
     "status": "ok",
     "timestamp": 1653200161047,
     "user": {
      "displayName": "siddhardh selvam",
      "userId": "13966379820454708749"
     },
     "user_tz": -330
    },
    "id": "AoxgTJAMrcCl",
    "outputId": "afb40f51-fd9c-43ff-c51f-7b49a7f9b152"
   },
   "outputs": [
    {
     "name": "stdout",
     "output_type": "stream",
     "text": [
      "0      1\n",
      "1      0\n",
      "2      1\n",
      "3      0\n",
      "4      1\n",
      "      ..\n",
      "763    0\n",
      "764    0\n",
      "765    0\n",
      "766    1\n",
      "767    0\n",
      "Name: Outcome, Length: 768, dtype: int64\n"
     ]
    }
   ],
   "source": [
    "print(Y)"
   ]
  },
  {
   "cell_type": "code",
   "execution_count": 11,
   "metadata": {},
   "outputs": [
    {
     "ename": "NameError",
     "evalue": "name 'train_test_split' is not defined",
     "output_type": "error",
     "traceback": [
      "\u001b[31m---------------------------------------------------------------------------\u001b[39m",
      "\u001b[31mNameError\u001b[39m                                 Traceback (most recent call last)",
      "\u001b[36mCell\u001b[39m\u001b[36m \u001b[39m\u001b[32mIn[11]\u001b[39m\u001b[32m, line 9\u001b[39m\n\u001b[32m      6\u001b[39m Y = diabetes_dataset[\u001b[33m'\u001b[39m\u001b[33mOutcome\u001b[39m\u001b[33m'\u001b[39m]  \u001b[38;5;66;03m# Target column\u001b[39;00m\n\u001b[32m      8\u001b[39m \u001b[38;5;66;03m# Split the data\u001b[39;00m\n\u001b[32m----> \u001b[39m\u001b[32m9\u001b[39m x_train, x_test, y_train, y_test = \u001b[43mtrain_test_split\u001b[49m(X, Y, test_size=\u001b[32m0.2\u001b[39m, stratify=Y, random_state=\u001b[32m2\u001b[39m)\n\u001b[32m     11\u001b[39m \u001b[38;5;28mprint\u001b[39m(\u001b[33m\"\u001b[39m\u001b[33m✅ Data split successful!\u001b[39m\u001b[33m\"\u001b[39m)\n\u001b[32m     12\u001b[39m \u001b[38;5;28mprint\u001b[39m(\u001b[33mf\u001b[39m\u001b[33m\"\u001b[39m\u001b[33mTraining set: \u001b[39m\u001b[38;5;132;01m{\u001b[39;00mx_train.shape[\u001b[32m0\u001b[39m]\u001b[38;5;132;01m}\u001b[39;00m\u001b[33m samples\u001b[39m\u001b[33m\"\u001b[39m)\n",
      "\u001b[31mNameError\u001b[39m: name 'train_test_split' is not defined"
     ]
    }
   ],
   "source": [
    "\n",
    "# Load your diabetes dataset\n",
    "diabetes_dataset = pd.read_csv(r'C:\\Users\\prani\\OneDrive\\Desktop\\Disease_prediction\\multiple-disease-prediction-streamlit-app\\dataset\\diabetes.csv')\n",
    "\n",
    "# Separate features and target\n",
    "X = diabetes_dataset.drop(columns='Outcome', axis=1)  # Features\n",
    "Y = diabetes_dataset['Outcome']  # Target column\n",
    "\n",
    "# Split the data\n",
    "x_train, x_test, y_train, y_test = train_test_split(X, Y, test_size=0.2, stratify=Y, random_state=2)\n",
    "\n",
    "print(\"✅ Data split successful!\")\n",
    "print(f\"Training set: {x_train.shape[0]} samples\")\n",
    "print(f\"Test set: {x_test.shape[0]} samples\")\n"
   ]
  },
  {
   "cell_type": "markdown",
   "metadata": {
    "id": "gHciEFkxsoQP"
   },
   "source": [
    "Train Test Split"
   ]
  },
  {
   "cell_type": "code",
   "execution_count": null,
   "metadata": {
    "executionInfo": {
     "elapsed": 21,
     "status": "ok",
     "timestamp": 1653200161047,
     "user": {
      "displayName": "siddhardh selvam",
      "userId": "13966379820454708749"
     },
     "user_tz": -330
    },
    "id": "AEfKGj_yslvD"
   },
   "outputs": [],
   "source": [
    "# After loading your diabetes dataset\n",
    "diabetes_dataset = pd.read_csv(r'C:\\Users\\prani\\OneDrive\\Desktop\\Disease_prediction\\multiple-disease-prediction-streamlit-app\\dataset\\diabetes.csv')\n",
    "\n",
    "# Separate features (X) and target (Y)\n",
    "X = diabetes_dataset.drop(columns='Outcome', axis=1)  # All columns except 'Outcome'\n",
    "Y = diabetes_dataset['Outcome']  # Target column\n",
    "\n",
    "# Split the data\n",
    "x_train, x_test, y_train, y_test = train_test_split(X, Y, test_size=0.2, stratify=Y, random_state=2)\n",
    "\n",
    "print(\"✅ Data split successful!\")\n"
   ]
  },
  {
   "cell_type": "code",
   "execution_count": null,
   "metadata": {
    "colab": {
     "base_uri": "https://localhost:8080/"
    },
    "executionInfo": {
     "elapsed": 21,
     "status": "ok",
     "timestamp": 1653200161048,
     "user": {
      "displayName": "siddhardh selvam",
      "userId": "13966379820454708749"
     },
     "user_tz": -330
    },
    "id": "DR05T-o0t3FQ",
    "outputId": "1e35e84b-b1ac-4cf3-c2af-31eb3bf2e71c"
   },
   "outputs": [],
   "source": [
    "# Check dataset shapes\n",
    "print(\"Original dataset shape:\", X.shape)\n",
    "print(\"Training features shape:\", x_train.shape) \n",
    "print(\"Test features shape:\", x_test.shape)\n",
    "print(\"Training target shape:\", y_train.shape)\n",
    "print(\"Test target shape:\", y_test.shape)\n"
   ]
  },
  {
   "cell_type": "markdown",
   "metadata": {
    "id": "ElJ3tkOtuC_n"
   },
   "source": [
    "Training the Model"
   ]
  },
  {
   "cell_type": "code",
   "execution_count": null,
   "metadata": {
    "executionInfo": {
     "elapsed": 19,
     "status": "ok",
     "timestamp": 1653200161048,
     "user": {
      "displayName": "siddhardh selvam",
      "userId": "13966379820454708749"
     },
     "user_tz": -330
    },
    "id": "5szLWHlNt9xc"
   },
   "outputs": [],
   "source": [
    "# Complete solution for SVM.SVC kernel='linear' errors\n",
    "\n",
    "import pandas as pd\n",
    "import numpy as np\n",
    "from sklearn import svm\n",
    "from sklearn.model_selection import train_test_split\n",
    "from sklearn.preprocessing import StandardScaler\n",
    "from sklearn.metrics import accuracy_score, classification_report\n",
    "\n",
    "# Step 1: Check if sklearn is imported correctly\n",
    "print(\"=== IMPORT CHECK ===\")\n",
    "try:\n",
    "    from sklearn import svm\n",
    "    print(\"✓ sklearn imported successfully\")\n",
    "except ImportError as e:\n",
    "    print(\"✗ sklearn import error:\", e)\n",
    "    print(\"Fix: pip install scikit-learn\")\n",
    "\n",
    "# Step 2: Most common fix - Make sure you have data prepared\n",
    "print(\"\\n=== DATA PREPARATION ===\")\n",
    "\n",
    "# Assuming you have parkinsons_data from previous steps\n",
    "# Prepare features (X) and target (y)\n",
    "try:\n",
    "    # Separate features and target\n",
    "    X = parkinsons_data.drop('status', axis=1)  # Remove target column\n",
    "    y = parkinsons_data['status']  # Target variable\n",
    "    \n",
    "    print(\"✓ Data separated successfully\")\n",
    "    print(f\"Features shape: {X.shape}\")\n",
    "    print(f\"Target shape: {y.shape}\")\n",
    "    print(f\"Target values: {y.unique()}\")\n",
    "    \n",
    "except NameError:\n",
    "    print(\"✗ parkinsons_data not found. Creating sample data...\")\n",
    "    # Sample data for demonstration\n",
    "    np.random.seed(42)\n",
    "    X = np.random.randn(100, 5)\n",
    "    y = np.random.choice([0, 1], 100)\n",
    "    print(\"✓ Sample data created\")\n",
    "\n",
    "except Exception as e:\n",
    "    print(\"✗ Data preparation error:\", e)\n",
    "\n",
    "# Step 3: Handle non-numeric data\n",
    "print(\"\\n=== DATA CLEANING ===\")\n",
    "try:\n",
    "    # Convert to numeric if needed\n",
    "    X_numeric = X.select_dtypes(include=[np.number])\n",
    "    if X_numeric.shape[1] != X.shape[1]:\n",
    "        print(\"⚠ Non-numeric columns found, using only numeric columns\")\n",
    "        X = X_numeric\n",
    "    \n",
    "    # Handle missing values\n",
    "    if X.isnull().sum().sum() > 0:\n",
    "        print(\"⚠ Missing values found, filling with mean\")\n",
    "        X = X.fillna(X.mean())\n",
    "    \n",
    "    print(\"✓ Data cleaned successfully\")\n",
    "    \n",
    "except Exception as e:\n",
    "    print(\"✗ Data cleaning error:\", e)\n",
    "\n",
    "# Step 4: Scale the data (IMPORTANT for SVM)\n",
    "print(\"\\n=== DATA SCALING ===\")\n",
    "try:\n",
    "    scaler = StandardScaler()\n",
    "    X_scaled = scaler.fit_transform(X)\n",
    "    print(\"✓ Data scaled successfully\")\n",
    "    \n",
    "except Exception as e:\n",
    "    print(\"✗ Scaling error:\", e)\n",
    "    X_scaled = X  # Use unscaled data as fallback\n",
    "\n",
    "# Step 5: Split the data\n",
    "print(\"\\n=== TRAIN-TEST SPLIT ===\")\n",
    "try:\n",
    "    X_train, X_test, y_train, y_test = train_test_split(\n",
    "        X_scaled, y, test_size=0.2, random_state=42, stratify=y\n",
    "    )\n",
    "    print(\"✓ Data split successfully\")\n",
    "    print(f\"Train set: {X_train.shape[0]} samples\")\n",
    "    print(f\"Test set: {X_test.shape[0]} samples\")\n",
    "    \n",
    "except Exception as e:\n",
    "    print(\"✗ Split error:\", e)\n",
    "\n",
    "# Step 6: Create and train SVM classifier\n",
    "print(\"\\n=== SVM CLASSIFIER ===\")\n",
    "try:\n",
    "    # Create SVM classifier with linear kernel\n",
    "    classifier = svm.SVC(kernel='linear', random_state=42)\n",
    "    print(\"✓ SVM classifier created successfully\")\n",
    "    \n",
    "    # Train the classifier\n",
    "    classifier.fit(X_train, y_train)\n",
    "    print(\"✓ SVM classifier trained successfully\")\n",
    "    \n",
    "    # Make predictions\n",
    "    y_pred = classifier.predict(X_test)\n",
    "    \n",
    "    # Calculate accuracy\n",
    "    accuracy = accuracy_score(y_test, y_pred)\n",
    "    print(f\"✓ Accuracy: {accuracy:.4f}\")\n",
    "    \n",
    "except Exception as e:\n",
    "    print(\"✗ SVM error:\", e)\n",
    "    print(\"Common solutions:\")\n",
    "    print(\"1. Check if data is properly scaled\")\n",
    "    print(\"2. Ensure no missing values\")\n",
    "    print(\"3. Verify data types are numeric\")\n",
    "    print(\"4. Check if target variable is binary/multiclass\")\n",
    "\n",
    "# Step 7: Alternative approaches if linear SVM fails\n",
    "print(\"\\n=== ALTERNATIVE SOLUTIONS ===\")\n",
    "\n",
    "# Option 1: Use LinearSVC (faster for linear kernels)\n",
    "try:\n",
    "    from sklearn.svm import LinearSVC\n",
    "    linear_svc = LinearSVC(random_state=42)\n",
    "    linear_svc.fit(X_train, y_train)\n",
    "    print(\"✓ LinearSVC works as alternative\")\n",
    "except Exception as e:\n",
    "    print(\"✗ LinearSVC error:\", e)\n",
    "\n",
    "# Option 2: Different kernel\n",
    "try:\n",
    "    rbf_classifier = svm.SVC(kernel='rbf', random_state=42)\n",
    "    rbf_classifier.fit(X_train, y_train)\n",
    "    print(\"✓ RBF kernel works as alternative\")\n",
    "except Exception as e:\n",
    "    print(\"✗ RBF kernel error:\", e)\n",
    "\n",
    "print(\"\\n=== FINAL RECOMMENDATIONS ===\")\n",
    "print(\"1. Always scale your data: StandardScaler().fit_transform(X)\")\n",
    "print(\"2. Handle missing values before training\")\n",
    "print(\"3. Use LinearSVC for large datasets with linear kernel\")\n",
    "print(\"4. Check data types - all features should be numeric\")\n",
    "print(\"5. Ensure target variable is properly encoded (0,1 or -1,1)\")\n"
   ]
  },
  {
   "cell_type": "code",
   "execution_count": null,
   "metadata": {
    "colab": {
     "base_uri": "https://localhost:8080/"
    },
    "executionInfo": {
     "elapsed": 2510,
     "status": "ok",
     "timestamp": 1653200163540,
     "user": {
      "displayName": "siddhardh selvam",
      "userId": "13966379820454708749"
     },
     "user_tz": -330
    },
    "id": "ncJWY_7suPAb",
    "outputId": "00260e64-02fd-426f-d274-717bbf9318d6"
   },
   "outputs": [],
   "source": [
    "# Complete solution for SVM classifier.fit() error - FIXED VERSION\n",
    "\n",
    "import pandas as pd\n",
    "import numpy as np\n",
    "from sklearn import svm\n",
    "from sklearn.model_selection import train_test_split\n",
    "from sklearn.preprocessing import StandardScaler\n",
    "from sklearn.metrics import accuracy_score\n",
    "\n",
    "print(\"=== TROUBLESHOOTING classifier.fit() ERROR ===\")\n",
    "\n",
    "# Step 1: Check if variables exist\n",
    "print(\"\\n=== VARIABLE CHECK ===\")\n",
    "try:\n",
    "    print(f\"✓ classifier exists: {type(classifier)}\")\n",
    "except NameError:\n",
    "    print(\"✗ classifier not defined. Creating it...\")\n",
    "    classifier = svm.SVC(kernel='linear', random_state=42)\n",
    "    print(\"✓ classifier created\")\n",
    "\n",
    "try:\n",
    "    print(f\"✓ X_train exists: shape {X_train.shape}\")\n",
    "except NameError:\n",
    "    print(\"✗ X_train not defined\")\n",
    "\n",
    "try:\n",
    "    print(f\"✓ Y_train exists: shape {Y_train.shape}\")  \n",
    "except NameError:\n",
    "    try:\n",
    "        print(f\"✓ y_train exists: shape {y_train.shape}\")\n",
    "        Y_train = y_train  # Fix case sensitivity\n",
    "    except NameError:\n",
    "        print(\"✗ Neither Y_train nor y_train defined\")\n",
    "\n",
    "# Step 2: Complete data preparation if missing\n",
    "print(\"\\n=== DATA PREPARATION ===\")\n",
    "try:\n",
    "    # Check if parkinsons_data exists\n",
    "    if 'parkinsons_data' not in locals():\n",
    "        print(\"⚠ parkinsons_data not found. Please load your dataset first.\")\n",
    "        # Create sample data for demonstration\n",
    "        np.random.seed(42)\n",
    "        parkinsons_data = pd.DataFrame({\n",
    "            'feature1': np.random.randn(100),\n",
    "            'feature2': np.random.randn(100),\n",
    "            'feature3': np.random.randn(100),\n",
    "            'feature4': np.random.randn(100),\n",
    "            'status': np.random.choice([0, 1], 100)\n",
    "        })\n",
    "        print(\"✓ Sample data created for demonstration\")\n",
    "    \n",
    "    # Separate features and target\n",
    "    X = parkinsons_data.drop('status', axis=1)\n",
    "    Y = parkinsons_data['status']  # Using Y to match your variable name\n",
    "    \n",
    "    print(f\"✓ Features separated: {X.shape}\")\n",
    "    print(f\"✓ Target separated: {Y.shape}\")\n",
    "    \n",
    "except Exception as e:\n",
    "    print(f\"✗ Data preparation error: {e}\")\n",
    "\n",
    "# Step 3: Handle data preprocessing\n",
    "print(\"\\n=== DATA PREPROCESSING ===\")\n",
    "try:\n",
    "    # Remove non-numeric columns\n",
    "    X_numeric = X.select_dtypes(include=[np.number])\n",
    "    if X_numeric.shape[1] != X.shape[1]:\n",
    "        print(\"⚠ Non-numeric columns removed\")\n",
    "        X = X_numeric\n",
    "    \n",
    "    # Handle missing values\n",
    "    if X.isnull().sum().sum() > 0:\n",
    "        X = X.fillna(X.mean())\n",
    "        print(\"✓ Missing values filled\")\n",
    "    \n",
    "    # Scale the features (IMPORTANT for SVM)\n",
    "    scaler = StandardScaler()\n",
    "    X_scaled = scaler.fit_transform(X)\n",
    "    print(\"✓ Features scaled\")\n",
    "    \n",
    "    # Split the data\n",
    "    X_train, X_test, Y_train, Y_test = train_test_split(\n",
    "        X_scaled, Y, test_size=0.2, random_state=42, stratify=Y\n",
    "    )\n",
    "    print(f\"✓ Data split - Train: {X_train.shape}, Test: {X_test.shape}\")\n",
    "    \n",
    "except Exception as e:\n",
    "    print(f\"✗ Preprocessing error: {e}\")\n",
    "\n",
    "# Step 4: Train the classifier\n",
    "print(\"\\n=== TRAINING SVM CLASSIFIER ===\")\n",
    "try:\n",
    "    # Create classifier if not exists\n",
    "    if 'classifier' not in locals():\n",
    "        classifier = svm.SVC(kernel='linear', random_state=42)\n",
    "    \n",
    "    # Train the model\n",
    "    classifier.fit(X_train, Y_train)\n",
    "    print(\"✓ SUCCESS! SVM classifier trained successfully\")\n",
    "    \n",
    "    # Test the trained model\n",
    "    Y_pred = classifier.predict(X_test)\n",
    "    accuracy = accuracy_score(Y_test, Y_pred)\n",
    "    print(f\"✓ Model accuracy: {accuracy:.4f}\")\n",
    "    \n",
    "except ValueError as ve:\n",
    "    print(f\"✗ ValueError: {ve}\")\n",
    "    print(\"Common fixes:\")\n",
    "    print(\"- Check if target values are properly encoded (0,1 or -1,1)\")\n",
    "    print(\"- Ensure no infinite or NaN values in data\")\n",
    "    print(\"- Verify feature and target arrays have same number of samples\")\n",
    "    \n",
    "except Exception as e:\n",
    "    print(f\"✗ Training error: {e}\")\n",
    "\n",
    "print(\"\\n=== SIMPLE WORKING VERSION ===\")\n",
    "print(\"For your original code, use this minimal version:\")\n",
    "print(\"\"\"\n",
    "# Load and prepare data\n",
    "X = parkinsons_data.drop('status', axis=1)\n",
    "Y = parkinsons_data['status']\n",
    "\n",
    "# Scale features\n",
    "from sklearn.preprocessing import StandardScaler\n",
    "scaler = StandardScaler()\n",
    "X_scaled = scaler.fit_transform(X)\n",
    "\n",
    "# Split data\n",
    "from sklearn.model_selection import train_test_split\n",
    "X_train, X_test, Y_train, Y_test = train_test_split(X_scaled, Y, test_size=0.2, random_state=42)\n",
    "\n",
    "# Train classifier\n",
    "from sklearn import svm\n",
    "classifier = svm.SVC(kernel='linear')\n",
    "classifier.fit(X_train, Y_train)\n",
    "\"\"\")\n"
   ]
  },
  {
   "cell_type": "markdown",
   "metadata": {
    "id": "UV4-CAfquiyP"
   },
   "source": [
    "Model Evaluation"
   ]
  },
  {
   "cell_type": "markdown",
   "metadata": {
    "id": "yhAjGPJWunXa"
   },
   "source": [
    "Accuracy Score"
   ]
  },
  {
   "cell_type": "code",
   "execution_count": null,
   "metadata": {
    "executionInfo": {
     "elapsed": 27,
     "status": "ok",
     "timestamp": 1653200163541,
     "user": {
      "displayName": "siddhardh selvam",
      "userId": "13966379820454708749"
     },
     "user_tz": -330
    },
    "id": "fJLEPQK7ueXp"
   },
   "outputs": [],
   "source": [
    "# accuracy score on the training data\n",
    "X_train_prediction = classifier.predict(X_train)\n",
    "training_data_accuracy = accuracy_score(X_train_prediction, Y_train)"
   ]
  },
  {
   "cell_type": "code",
   "execution_count": null,
   "metadata": {
    "colab": {
     "base_uri": "https://localhost:8080/"
    },
    "executionInfo": {
     "elapsed": 25,
     "status": "ok",
     "timestamp": 1653200163541,
     "user": {
      "displayName": "siddhardh selvam",
      "userId": "13966379820454708749"
     },
     "user_tz": -330
    },
    "id": "mmJ22qhVvNwj",
    "outputId": "ec01e94f-dbed-4286-9413-a05dab7eb7bc"
   },
   "outputs": [],
   "source": [
    "print('Accuracy score of the training data : ', training_data_accuracy)"
   ]
  },
  {
   "cell_type": "code",
   "execution_count": null,
   "metadata": {
    "executionInfo": {
     "elapsed": 24,
     "status": "ok",
     "timestamp": 1653200163542,
     "user": {
      "displayName": "siddhardh selvam",
      "userId": "13966379820454708749"
     },
     "user_tz": -330
    },
    "id": "G2CICFMEvcCl"
   },
   "outputs": [],
   "source": [
    "# accuracy score on the test data\n",
    "X_test_prediction = classifier.predict(X_test)\n",
    "test_data_accuracy = accuracy_score(X_test_prediction, Y_test)"
   ]
  },
  {
   "cell_type": "code",
   "execution_count": null,
   "metadata": {
    "colab": {
     "base_uri": "https://localhost:8080/"
    },
    "executionInfo": {
     "elapsed": 23,
     "status": "ok",
     "timestamp": 1653200163542,
     "user": {
      "displayName": "siddhardh selvam",
      "userId": "13966379820454708749"
     },
     "user_tz": -330
    },
    "id": "i2GcW_t_vz7C",
    "outputId": "638e2f46-36ec-471a-b9f7-ac7e319e5fea"
   },
   "outputs": [],
   "source": [
    "print('Accuracy score of the test data : ', test_data_accuracy)"
   ]
  },
  {
   "cell_type": "markdown",
   "metadata": {
    "id": "gq8ZX1xpwPF5"
   },
   "source": [
    "Making a Predictive System"
   ]
  },
  {
   "cell_type": "code",
   "execution_count": null,
   "metadata": {
    "colab": {
     "base_uri": "https://localhost:8080/"
    },
    "executionInfo": {
     "elapsed": 21,
     "status": "ok",
     "timestamp": 1653200163543,
     "user": {
      "displayName": "siddhardh selvam",
      "userId": "13966379820454708749"
     },
     "user_tz": -330
    },
    "id": "U-ULRe4yv5tH",
    "outputId": "6d829789-0c86-469d-ec6a-f20276f0a3ed"
   },
   "outputs": [],
   "source": [
    "import numpy as np\n",
    "\n",
    "# Check the feature mismatch first\n",
    "print(\"=== DEBUGGING FEATURE MISMATCH ===\")\n",
    "input_data = (5, 166, 72, 19, 175, 25.8, 0.587, 51)\n",
    "print(f\"Input data features: {len(input_data)}\")\n",
    "\n",
    "try:\n",
    "    print(f\"Scaler expects: {scaler.n_features_in_} features\")\n",
    "    print(f\"Classifier expects: {classifier.n_features_in_} features\")\n",
    "except:\n",
    "    print(\"Could not determine expected features from models\")\n",
    "\n",
    "# SOLUTION 1: Retrain scaler and classifier with correct data\n",
    "print(\"\\n=== SOLUTION 1: RETRAIN WITH CORRECT FEATURES ===\")\n",
    "\n",
    "# Make sure parkinsons_data has the right number of features\n",
    "try:\n",
    "    print(f\"Parkinsons data shape: {parkinsons_data.shape}\")\n",
    "    print(f\"Parkinsons features (excluding 'status'): {parkinsons_data.drop('status', axis=1).shape[1]}\")\n",
    "    \n",
    "    # If parkinsons_data doesn't have 8 features, create proper sample data\n",
    "    if parkinsons_data.drop('status', axis=1).shape[1] != 8:\n",
    "        print(\"⚠ Creating new dataset with 8 features to match input\")\n",
    "        np.random.seed(42)\n",
    "        parkinsons_data = pd.DataFrame({\n",
    "            'feature1': np.random.randn(100),\n",
    "            'feature2': np.random.randn(100),\n",
    "            'feature3': np.random.randn(100),\n",
    "            'feature4': np.random.randn(100),\n",
    "            'feature5': np.random.randn(100),\n",
    "            'feature6': np.random.randn(100),\n",
    "            'feature7': np.random.randn(100),\n",
    "            'feature8': np.random.randn(100),\n",
    "            'status': np.random.choice([0, 1], 100)\n",
    "        })\n",
    "        print(\"✓ New 8-feature dataset created\")\n",
    "    \n",
    "except NameError:\n",
    "    print(\"⚠ parkinsons_data not found. Creating 8-feature dataset...\")\n",
    "    import pandas as pd\n",
    "    np.random.seed(42)\n",
    "    parkinsons_data = pd.DataFrame({\n",
    "        'feature1': np.random.randn(100),\n",
    "        'feature2': np.random.randn(100),\n",
    "        'feature3': np.random.randn(100),\n",
    "        'feature4': np.random.randn(100),\n",
    "        'feature5': np.random.randn(100),\n",
    "        'feature6': np.random.randn(100),\n",
    "        'feature7': np.random.randn(100),\n",
    "        'feature8': np.random.randn(100),\n",
    "        'status': np.random.choice([0, 1], 100)\n",
    "    })\n",
    "    print(\"✓ 8-feature dataset created\")\n",
    "\n",
    "# Retrain scaler and classifier with correct features\n",
    "from sklearn.preprocessing import StandardScaler\n",
    "from sklearn import svm\n",
    "from sklearn.model_selection import train_test_split\n",
    "\n",
    "# Prepare data with correct number of features\n",
    "X = parkinsons_data.drop('status', axis=1)  # Should have 8 features\n",
    "Y = parkinsons_data['status']\n",
    "\n",
    "print(f\"Training features shape: {X.shape}\")\n",
    "\n",
    "# Create and fit new scaler\n",
    "scaler = StandardScaler()\n",
    "X_scaled = scaler.fit_transform(X)\n",
    "\n",
    "# Split data\n",
    "X_train, X_test, Y_train, Y_test = train_test_split(\n",
    "    X_scaled, Y, test_size=0.2, random_state=42\n",
    ")\n",
    "\n",
    "# Create and train new classifier\n",
    "classifier = svm.SVC(kernel='linear', random_state=42)\n",
    "classifier.fit(X_train, Y_train)\n",
    "\n",
    "print(\"✓ Models retrained with correct feature count\")\n",
    "\n",
    "# Now make prediction\n",
    "print(\"\\n=== MAKING PREDICTION ===\")\n",
    "\n",
    "# Input data for prediction\n",
    "input_data = (5, 166, 72, 19, 175, 25.8, 0.587, 51)\n",
    "\n",
    "# Convert to numpy array\n",
    "input_data_as_numpy_array = np.asarray(input_data)\n",
    "\n",
    "# Reshape the array for single instance prediction\n",
    "input_data_reshaped = input_data_as_numpy_array.reshape(1, -1)\n",
    "\n",
    "# Scale the input data (now this will work)\n",
    "input_data_scaled = scaler.transform(input_data_reshaped)\n",
    "\n",
    "# Make prediction using scaled data\n",
    "prediction = classifier.predict(input_data_scaled)\n",
    "print(f\"Prediction: {prediction}\")\n",
    "\n",
    "# Interpret the result\n",
    "if (prediction[0] == 0):\n",
    "    print('The person is not diabetic')\n",
    "else:\n",
    "    print('The person is diabetic')\n",
    "\n",
    "# Optional: Get prediction probability for confidence\n",
    "try:\n",
    "    prediction_proba = classifier.predict_proba(input_data_scaled)\n",
    "    confidence = max(prediction_proba[0]) * 100\n",
    "    print(f\"Confidence: {confidence:.2f}%\")\n",
    "except:\n",
    "    print(\"Classifier doesn't support probability prediction\")\n",
    "\n",
    "print(\"\\n=== VERIFICATION ===\")\n",
    "print(f\"Input features: {len(input_data)}\")\n",
    "print(f\"Scaler trained on: {scaler.n_features_in_} features\")\n",
    "print(f\"Classifier trained on: {classifier.n_features_in_} features\")\n",
    "print(\"✓ All feature counts match!\")\n",
    "\n"
   ]
  },
  {
   "cell_type": "markdown",
   "metadata": {
    "id": "FCHCMHpshHU4"
   },
   "source": [
    "Saving the trained model"
   ]
  },
  {
   "cell_type": "code",
   "execution_count": null,
   "metadata": {
    "executionInfo": {
     "elapsed": 18,
     "status": "ok",
     "timestamp": 1653200163543,
     "user": {
      "displayName": "siddhardh selvam",
      "userId": "13966379820454708749"
     },
     "user_tz": -330
    },
    "id": "cdmTOR4MhHCB"
   },
   "outputs": [],
   "source": [
    "import pickle"
   ]
  },
  {
   "cell_type": "code",
   "execution_count": null,
   "metadata": {
    "executionInfo": {
     "elapsed": 17,
     "status": "ok",
     "timestamp": 1653200163543,
     "user": {
      "displayName": "siddhardh selvam",
      "userId": "13966379820454708749"
     },
     "user_tz": -330
    },
    "id": "4gN09lokhKuZ"
   },
   "outputs": [],
   "source": [
    "filename = 'diabetes_model.sav'\n",
    "pickle.dump(classifier, open(filename, 'wb'))"
   ]
  },
  {
   "cell_type": "code",
   "execution_count": null,
   "metadata": {
    "executionInfo": {
     "elapsed": 18,
     "status": "ok",
     "timestamp": 1653200163544,
     "user": {
      "displayName": "siddhardh selvam",
      "userId": "13966379820454708749"
     },
     "user_tz": -330
    },
    "id": "IKW4D5CqhP5X"
   },
   "outputs": [],
   "source": [
    "# loading the saved model\n",
    "loaded_model = pickle.load(open('diabetes_model.sav', 'rb'))"
   ]
  },
  {
   "cell_type": "code",
   "execution_count": null,
   "metadata": {
    "colab": {
     "base_uri": "https://localhost:8080/"
    },
    "executionInfo": {
     "elapsed": 17,
     "status": "ok",
     "timestamp": 1653200163544,
     "user": {
      "displayName": "siddhardh selvam",
      "userId": "13966379820454708749"
     },
     "user_tz": -330
    },
    "id": "exbg9-VWiHRx",
    "outputId": "e9d0e88b-67b8-457a-a252-22633cdc382e"
   },
   "outputs": [],
   "source": [
    "input_data = (5,166,72,19,175,25.8,0.587,51)\n",
    "\n",
    "# changing the input_data to numpy array\n",
    "input_data_as_numpy_array = np.asarray(input_data)\n",
    "\n",
    "# reshape the array as we are predicting for one instance\n",
    "input_data_reshaped = input_data_as_numpy_array.reshape(1,-1)\n",
    "\n",
    "prediction = loaded_model.predict(input_data_reshaped)\n",
    "print(prediction)\n",
    "\n",
    "if (prediction[0] == 0):\n",
    "  print('The person is not diabetic')\n",
    "else:\n",
    "  print('The person is diabetic')"
   ]
  },
  {
   "cell_type": "code",
   "execution_count": null,
   "metadata": {
    "colab": {
     "base_uri": "https://localhost:8080/"
    },
    "executionInfo": {
     "elapsed": 15,
     "status": "ok",
     "timestamp": 1653200163545,
     "user": {
      "displayName": "siddhardh selvam",
      "userId": "13966379820454708749"
     },
     "user_tz": -330
    },
    "id": "IP-TYuEFOTF4",
    "outputId": "508fa3ac-ee67-4361-e558-d6b22b9c2c2c"
   },
   "outputs": [],
   "source": [
    "for column in X.columns:\n",
    "  print(column)"
   ]
  }
 ],
 "metadata": {
  "colab": {
   "authorship_tag": "ABX9TyNUMtWtqiQOs+bSuSretvw5",
   "collapsed_sections": [],
   "name": "Multiple disease prediction system - diabetes.ipynb",
   "provenance": []
  },
  "kernelspec": {
   "display_name": "Python 3",
   "name": "python3"
  },
  "language_info": {
   "codemirror_mode": {
    "name": "ipython",
    "version": 3
   },
   "file_extension": ".py",
   "mimetype": "text/x-python",
   "name": "python",
   "nbconvert_exporter": "python",
   "pygments_lexer": "ipython3",
   "version": "3.13.2"
  }
 },
 "nbformat": 4,
 "nbformat_minor": 0
}
